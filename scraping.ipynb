{
 "cells": [
  {
   "cell_type": "code",
   "execution_count": null,
   "id": "src7oQHRUKYD",
   "metadata": {},
   "outputs": [],
   "source": [
    "import pandas as pd\n",
    "import requests\n",
    "from datetime import datetime"
   ]
  },
  {
   "cell_type": "code",
   "execution_count": null,
   "id": "JD1Zflg2UlU_",
   "metadata": {},
   "outputs": [],
   "source": [
    "def fetch_crypto_data(crypto_id, start_date):\n",
    "    # Calculate the number of days from the start date to today\n",
    "    start_date = pd.to_datetime(start_date)\n",
    "    today = pd.to_datetime(datetime.now())\n",
    "    days = (today - start_date).days\n",
    "\n",
    "    if days < 1:\n",
    "        return None\n",
    "\n",
    "    # Limit the number of days to a maximum of 365\n",
    "    days = min(days, 365)\n",
    "\n",
    "    url = 'enter your api key (not shared due to limited access)'\n",
    "    params = {\n",
    "        'vs_currency': 'usd',\n",
    "        'days': days,          # Set the number of days\n",
    "        'interval': 'daily'    # Daily interval\n",
    "    }\n",
    "\n",
    "    response = requests.get(url, params=params)\n",
    "\n",
    "    if response.status_code == 200:\n",
    "        data = response.json()\n",
    "        prices = data['prices']\n",
    "\n",
    "        # Creating DataFrame from the prices\n",
    "        df = pd.DataFrame(prices, columns=['timestamp', 'price'])\n",
    "        df['Date'] = pd.to_datetime(df['timestamp'], unit='ms')\n",
    "        df.set_index('Date', inplace=True)\n",
    "\n",
    "        df['Open'] = df['price'].shift(1)  # Previous day's price as Open\n",
    "        df['Close'] = df['price']\n",
    "        df['High'] = df['price'].rolling(window=2).max()  # Max of last 2 prices\n",
    "        df['Low'] = df['price'].rolling(window=2).min()   # Min of last 2 prices\n",
    "\n",
    "        df = df[['Open', 'High', 'Low', 'Close']]\n",
    "\n",
    "        return df\n",
    "    else:\n",
    "        print(f\"Error: Unable to fetch data, received status code {response.status_code}\")\n",
    "        return None"
   ]
  },
  {
   "cell_type": "code",
   "execution_count": null,
   "id": "6Y8Q7DelU5Nb",
   "metadata": {},
   "outputs": [],
   "source": [
    "crypto_id = 'bitcoin'\n",
    "start_date = '2023-01-01'\n",
    "df_crypto = fetch_crypto_data(crypto_id, start_date)"
   ]
  },
  {
   "cell_type": "code",
   "execution_count": null,
   "id": "UphWIfY4U6aP",
   "metadata": {},
   "outputs": [],
   "source": [
    "df_crypto.to_csv('bitcoin.csv')"
   ]
  },
  {
   "cell_type": "code",
   "execution_count": null,
   "id": "1kJ4qr09VFe3",
   "metadata": {},
   "outputs": [],
   "source": [
    "df = pd.read_csv('bitcoin.csv')"
   ]
  },
  {
   "cell_type": "code",
   "execution_count": null,
   "id": "K4i-pgaHVIHS",
   "metadata": {},
   "outputs": [],
   "source": [
    "df"
   ]
  }
 ],
 "metadata": {
  "kernelspec": {
   "display_name": "Python 3",
   "language": "python",
   "name": "python3"
  },
  "language_info": {
   "name": "python",
   "version": "3.8"
  }
 },
 "nbformat": 4,
 "nbformat_minor": 5
}
